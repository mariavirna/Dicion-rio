{
  "nbformat": 4,
  "nbformat_minor": 0,
  "metadata": {
    "colab": {
      "provenance": [],
      "authorship_tag": "ABX9TyP2WLS5NnBh0x8nahEKoh5o",
      "include_colab_link": true
    },
    "kernelspec": {
      "name": "python3",
      "display_name": "Python 3"
    },
    "language_info": {
      "name": "python"
    }
  },
  "cells": [
    {
      "cell_type": "markdown",
      "metadata": {
        "id": "view-in-github",
        "colab_type": "text"
      },
      "source": [
        "<a href=\"https://colab.research.google.com/github/mariavirna/Dicion-rio/blob/main/Dicion%C3%A1rio.ipynb\" target=\"_parent\"><img src=\"https://colab.research.google.com/assets/colab-badge.svg\" alt=\"Open In Colab\"/></a>"
      ]
    },
    {
      "cell_type": "code",
      "execution_count": 25,
      "metadata": {
        "colab": {
          "base_uri": "https://localhost:8080/"
        },
        "id": "bO8jniVi6_iH",
        "outputId": "c3e38a94-a0ff-4e14-8442-9b2902c6f120"
      },
      "outputs": [
        {
          "output_type": "stream",
          "name": "stdout",
          "text": [
            "{'Teo': 8.5, 'Cristiano': 8.9, 'Matson': 7.7}\n"
          ]
        }
      ],
      "source": [
        "# Dicionário com as notas de alguns alunos\n",
        "notas = {'Teo': 8.5, 'Cristiano': 8.9, 'Matson': 7.7}\n",
        "print(notas)"
      ]
    },
    {
      "cell_type": "code",
      "source": [
        "#Exiba a nota do aluno Matson.\n",
        "print(notas['Matson'])"
      ],
      "metadata": {
        "colab": {
          "base_uri": "https://localhost:8080/"
        },
        "id": "i1MAX8H4835W",
        "outputId": "96d967ec-a4f8-449c-a5a2-cf4e4c4a3602"
      },
      "execution_count": 26,
      "outputs": [
        {
          "output_type": "stream",
          "name": "stdout",
          "text": [
            "7.7\n"
          ]
        }
      ]
    },
    {
      "cell_type": "code",
      "source": [
        "# Adicione um novo aluno chamado \"Bruna\" com a nota 8.7.\n",
        "notas['Bruna'] = 8.7\n",
        "print(notas)"
      ],
      "metadata": {
        "colab": {
          "base_uri": "https://localhost:8080/"
        },
        "id": "iUMaZlOQ9ZRj",
        "outputId": "90b88fca-0c71-455f-a9e7-bb12806b0c3f"
      },
      "execution_count": 27,
      "outputs": [
        {
          "output_type": "stream",
          "name": "stdout",
          "text": [
            "{'Teo': 8.5, 'Cristiano': 8.9, 'Matson': 7.7, 'Bruna': 8.7}\n"
          ]
        }
      ]
    },
    {
      "cell_type": "code",
      "source": [
        "#Atualize a nota do aluno \"Teo\" para 9.2.\n",
        "notas['Teo'] = 9.2\n",
        "print(notas)"
      ],
      "metadata": {
        "colab": {
          "base_uri": "https://localhost:8080/"
        },
        "id": "sT_ZwJKA-OTo",
        "outputId": "b8ec8108-8b90-45b2-9244-e1a55d9bb6fe"
      },
      "execution_count": 28,
      "outputs": [
        {
          "output_type": "stream",
          "name": "stdout",
          "text": [
            "{'Teo': 9.2, 'Cristiano': 8.9, 'Matson': 7.7, 'Bruna': 8.7}\n"
          ]
        }
      ]
    },
    {
      "cell_type": "code",
      "source": [
        "# Verifique se o aluno \"Carlos\" está no dicionário.\n",
        "print('Carlos' in notas)"
      ],
      "metadata": {
        "colab": {
          "base_uri": "https://localhost:8080/"
        },
        "id": "f0BRIDOu-dWw",
        "outputId": "cd2e600b-fc8e-4733-cbe0-401ccd7bc5be"
      },
      "execution_count": 29,
      "outputs": [
        {
          "output_type": "stream",
          "name": "stdout",
          "text": [
            "False\n"
          ]
        }
      ]
    },
    {
      "cell_type": "code",
      "source": [
        "# Apague o aluno \"Matson\" do dicionário.\n",
        "del notas['Matson']\n",
        "print(notas)"
      ],
      "metadata": {
        "colab": {
          "base_uri": "https://localhost:8080/"
        },
        "id": "I08AzlOr_If_",
        "outputId": "9f51b787-b62a-4d12-c56b-6fea8069f8bc"
      },
      "execution_count": 30,
      "outputs": [
        {
          "output_type": "stream",
          "name": "stdout",
          "text": [
            "{'Teo': 9.2, 'Cristiano': 8.9, 'Bruna': 8.7}\n"
          ]
        }
      ]
    },
    {
      "cell_type": "code",
      "source": [
        "# Adicione dois novos alunos com notas à sua escolha.\n",
        "notas['João'] = 9.5\n",
        "notas['Ana'] = 7.8\n",
        "print(notas)"
      ],
      "metadata": {
        "colab": {
          "base_uri": "https://localhost:8080/"
        },
        "id": "saStGerH_SQU",
        "outputId": "3f695770-d5ce-4ddb-9f3f-c6c974ed80c0"
      },
      "execution_count": 31,
      "outputs": [
        {
          "output_type": "stream",
          "name": "stdout",
          "text": [
            "{'Teo': 9.2, 'Cristiano': 8.9, 'Bruna': 8.7, 'João': 9.5, 'Ana': 7.8}\n"
          ]
        }
      ]
    },
    {
      "cell_type": "code",
      "source": [
        "# Mostre todas as chaves (nomes dos alunos).\n",
        "notas.keys()"
      ],
      "metadata": {
        "colab": {
          "base_uri": "https://localhost:8080/"
        },
        "id": "Y1406-Co_nhI",
        "outputId": "49e97cfb-5337-464d-cc90-30b3c2fb94cc"
      },
      "execution_count": 32,
      "outputs": [
        {
          "output_type": "execute_result",
          "data": {
            "text/plain": [
              "dict_keys(['Teo', 'Cristiano', 'Bruna', 'João', 'Ana'])"
            ]
          },
          "metadata": {},
          "execution_count": 32
        }
      ]
    },
    {
      "cell_type": "code",
      "source": [
        "# Mostre todos os valores (notas dos alunos).\n",
        "notas.values()"
      ],
      "metadata": {
        "colab": {
          "base_uri": "https://localhost:8080/"
        },
        "id": "hpzXpDxGALMb",
        "outputId": "2532b6e2-6c8c-4a63-bd8b-aa6c9c2fe65a"
      },
      "execution_count": 33,
      "outputs": [
        {
          "output_type": "execute_result",
          "data": {
            "text/plain": [
              "dict_values([9.2, 8.9, 8.7, 9.5, 7.8])"
            ]
          },
          "metadata": {},
          "execution_count": 33
        }
      ]
    },
    {
      "cell_type": "code",
      "source": [
        "# Use o método .get() para tentar buscar a nota de \"Islla\", e retorne \"Aluno não encontrado\" caso ele não exista.\n",
        "notas.get('Islla', 'Aluno não encontrado')"
      ],
      "metadata": {
        "colab": {
          "base_uri": "https://localhost:8080/",
          "height": 35
        },
        "id": "QdH0f75pAW9a",
        "outputId": "7f289bd3-243d-46e9-e636-054731ab5c55"
      },
      "execution_count": 34,
      "outputs": [
        {
          "output_type": "execute_result",
          "data": {
            "text/plain": [
              "'Aluno não encontrado'"
            ],
            "application/vnd.google.colaboratory.intrinsic+json": {
              "type": "string"
            }
          },
          "metadata": {},
          "execution_count": 34
        }
      ]
    },
    {
      "cell_type": "code",
      "source": [
        "# Use o método .get() para tentar buscar a nota de algum aluno, e a retorne.\n",
        "notas.get('Teo','Aluno não encontrado')"
      ],
      "metadata": {
        "colab": {
          "base_uri": "https://localhost:8080/"
        },
        "id": "dcixfuWLBTDS",
        "outputId": "b0c687f6-8e65-496f-9e30-37abdbbea8c7"
      },
      "execution_count": 36,
      "outputs": [
        {
          "output_type": "execute_result",
          "data": {
            "text/plain": [
              "9.2"
            ]
          },
          "metadata": {},
          "execution_count": 36
        }
      ]
    }
  ]
}